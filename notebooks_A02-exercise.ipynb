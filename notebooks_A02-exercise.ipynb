{
  "metadata": {
    "language_info": {
      "codemirror_mode": {
        "name": "python",
        "version": 3
      },
      "file_extension": ".py",
      "mimetype": "text/x-python",
      "name": "python",
      "nbconvert_exporter": "python",
      "pygments_lexer": "ipython3",
      "version": "3.8"
    },
    "kernelspec": {
      "name": "python",
      "display_name": "Python (Pyodide)",
      "language": "python"
    }
  },
  "nbformat_minor": 4,
  "nbformat": 4,
  "cells": [
    {
      "cell_type": "markdown",
      "source": "## Header",
      "metadata": {}
    },
    {
      "cell_type": "markdown",
      "source": "**bold**",
      "metadata": {}
    },
    {
      "cell_type": "markdown",
      "source": "*italics*",
      "metadata": {}
    },
    {
      "cell_type": "markdown",
      "source": "***bold and italics***",
      "metadata": {}
    },
    {
      "cell_type": "markdown",
      "source": "- one\n- two\n- three\n",
      "metadata": {}
    },
    {
      "cell_type": "code",
      "source": "2+6",
      "metadata": {
        "trusted": true
      },
      "execution_count": 3,
      "outputs": [
        {
          "execution_count": 3,
          "output_type": "execute_result",
          "data": {
            "text/plain": "8"
          },
          "metadata": {}
        }
      ]
    },
    {
      "cell_type": "raw",
      "source": "2+6",
      "metadata": {}
    },
    {
      "cell_type": "code",
      "source": "",
      "metadata": {},
      "execution_count": null,
      "outputs": []
    }
  ]
}